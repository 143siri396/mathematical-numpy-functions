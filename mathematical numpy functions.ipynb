{
 "cells": [
  {
   "cell_type": "code",
   "execution_count": 1,
   "id": "1d0edb84",
   "metadata": {},
   "outputs": [
    {
     "name": "stdout",
     "output_type": "stream",
     "text": [
      "[[16 11 17 13 18]\n",
      " [ 3  1  5  9 16]\n",
      " [18  9 11 12  6]\n",
      " [16 16 19 15 12]\n",
      " [ 1  7 10  6 14]\n",
      " [16 16 12 12  4]]\n"
     ]
    }
   ],
   "source": [
    "import numpy as np\n",
    "x=np.random.randint(0,20,(6,5))\n",
    "print(x)"
   ]
  },
  {
   "cell_type": "code",
   "execution_count": 4,
   "id": "107a3b4d",
   "metadata": {},
   "outputs": [
    {
     "data": {
      "text/plain": [
       "array([16, 11, 17, 13, 18,  3,  1,  5,  9, 16, 18,  9, 11, 12,  6, 16, 16,\n",
       "       19, 15, 12,  1,  7, 10,  6, 14, 16, 16, 12, 12,  4])"
      ]
     },
     "execution_count": 4,
     "metadata": {},
     "output_type": "execute_result"
    }
   ],
   "source": [
    "#ravel returns the flatten the array\n",
    "x.ravel()"
   ]
  },
  {
   "cell_type": "code",
   "execution_count": 5,
   "id": "3eb3a5e2",
   "metadata": {},
   "outputs": [],
   "source": [
    "y=x.ravel()"
   ]
  },
  {
   "cell_type": "code",
   "execution_count": 6,
   "id": "099dd2d2",
   "metadata": {},
   "outputs": [
    {
     "data": {
      "text/plain": [
       "array([[16, 11, 17],\n",
       "       [13, 18,  3],\n",
       "       [ 1,  5,  9],\n",
       "       [16, 18,  9],\n",
       "       [11, 12,  6],\n",
       "       [16, 16, 19],\n",
       "       [15, 12,  1],\n",
       "       [ 7, 10,  6],\n",
       "       [14, 16, 16],\n",
       "       [12, 12,  4]])"
      ]
     },
     "execution_count": 6,
     "metadata": {},
     "output_type": "execute_result"
    }
   ],
   "source": [
    "y.reshape(10,3)"
   ]
  },
  {
   "cell_type": "code",
   "execution_count": 7,
   "id": "1d326223",
   "metadata": {},
   "outputs": [
    {
     "name": "stdout",
     "output_type": "stream",
     "text": [
      "[[2 3]\n",
      " [4 3]]\n"
     ]
    }
   ],
   "source": [
    "x1=np.array([[2,3],[4,3]])\n",
    "print(x1)"
   ]
  },
  {
   "cell_type": "code",
   "execution_count": 8,
   "id": "2f1f2cea",
   "metadata": {},
   "outputs": [
    {
     "name": "stdout",
     "output_type": "stream",
     "text": [
      "[[4 5]\n",
      " [6 7]]\n"
     ]
    }
   ],
   "source": [
    "x2=np.array([[4,5],[6,7]])\n",
    "print(x2)"
   ]
  },
  {
   "cell_type": "code",
   "execution_count": 9,
   "id": "d7b67e64",
   "metadata": {},
   "outputs": [
    {
     "data": {
      "text/plain": [
       "array([[2, 3],\n",
       "       [4, 3],\n",
       "       [4, 5],\n",
       "       [6, 7]])"
      ]
     },
     "execution_count": 9,
     "metadata": {},
     "output_type": "execute_result"
    }
   ],
   "source": [
    "np.vstack([x1,x2])"
   ]
  },
  {
   "cell_type": "code",
   "execution_count": 10,
   "id": "e494d7c7",
   "metadata": {},
   "outputs": [
    {
     "data": {
      "text/plain": [
       "array([[2, 3, 4, 5],\n",
       "       [4, 3, 6, 7]])"
      ]
     },
     "execution_count": 10,
     "metadata": {},
     "output_type": "execute_result"
    }
   ],
   "source": [
    "np.hstack([x1,x2])"
   ]
  },
  {
   "cell_type": "code",
   "execution_count": 12,
   "id": "da66fc42",
   "metadata": {},
   "outputs": [
    {
     "data": {
      "text/plain": [
       "array([[2, 3],\n",
       "       [4, 3],\n",
       "       [4, 5],\n",
       "       [6, 7]])"
      ]
     },
     "execution_count": 12,
     "metadata": {},
     "output_type": "execute_result"
    }
   ],
   "source": [
    "np.concatenate([x1,x2],axis=0)"
   ]
  },
  {
   "cell_type": "code",
   "execution_count": 13,
   "id": "8957ac6b",
   "metadata": {},
   "outputs": [
    {
     "data": {
      "text/plain": [
       "array([[2, 3, 4, 5],\n",
       "       [4, 3, 6, 7]])"
      ]
     },
     "execution_count": 13,
     "metadata": {},
     "output_type": "execute_result"
    }
   ],
   "source": [
    "np.concatenate([x1,x2],axis=1)"
   ]
  },
  {
   "cell_type": "code",
   "execution_count": 14,
   "id": "39eb7b27",
   "metadata": {},
   "outputs": [
    {
     "name": "stdout",
     "output_type": "stream",
     "text": [
      "[ 0.  1.  2.  3.  4.  5.  6.  7.  8.  9. 10. 11. 12. 13. 14. 15. 16. 17.\n",
      " 18. 19. 20. 21. 22. 23.]\n",
      "float64\n"
     ]
    }
   ],
   "source": [
    "d=np.arange(24,dtype='float')\n",
    "print(d)\n",
    "print(d.dtype)"
   ]
  },
  {
   "cell_type": "code",
   "execution_count": 15,
   "id": "4b858aab",
   "metadata": {},
   "outputs": [
    {
     "data": {
      "text/plain": [
       "480"
      ]
     },
     "execution_count": 15,
     "metadata": {},
     "output_type": "execute_result"
    }
   ],
   "source": [
    "#numpy mamethamatical functions\n",
    "import numpy as np\n",
    "np.sum([10,30,60,54,68,258])"
   ]
  },
  {
   "cell_type": "code",
   "execution_count": 18,
   "id": "73f35536",
   "metadata": {},
   "outputs": [
    {
     "data": {
      "text/plain": [
       "55"
      ]
     },
     "execution_count": 18,
     "metadata": {},
     "output_type": "execute_result"
    }
   ],
   "source": [
    "a=[10,20]\n",
    "b=[20,5]\n",
    "np.sum([a,b])"
   ]
  },
  {
   "cell_type": "code",
   "execution_count": 21,
   "id": "ea9b9519",
   "metadata": {},
   "outputs": [
    {
     "name": "stdout",
     "output_type": "stream",
     "text": [
      "[[ 8 10 12]\n",
      " [14 16 18]]\n"
     ]
    },
    {
     "data": {
      "text/plain": [
       "2"
      ]
     },
     "execution_count": 21,
     "metadata": {},
     "output_type": "execute_result"
    }
   ],
   "source": [
    "#addition\n",
    "import numpy as np\n",
    "array1=np.array([[1,2,3],[4,5,6]])\n",
    "array2=np.array([[7,8,9],[10,11,12]])\n",
    "sum_array=array1+array2\n",
    "print(sum_array)\n",
    "sum_array.ndim"
   ]
  },
  {
   "cell_type": "code",
   "execution_count": 22,
   "id": "0c99e3db",
   "metadata": {},
   "outputs": [
    {
     "name": "stdout",
     "output_type": "stream",
     "text": [
      "[ 0 -5  1]\n"
     ]
    }
   ],
   "source": [
    "#subtraction\n",
    "a=np.array([0,1,6])\n",
    "b=np.array([0,5,3])\n",
    "c=np.array([0,1,2])\n",
    "sub=a-b-c\n",
    "print(sub)"
   ]
  },
  {
   "cell_type": "code",
   "execution_count": 25,
   "id": "2522c2cd",
   "metadata": {},
   "outputs": [
    {
     "name": "stdout",
     "output_type": "stream",
     "text": [
      "result of a+b with broadcasting:\n",
      " [[ 6  6]\n",
      " [11 12]\n",
      " [11  9]]\n"
     ]
    }
   ],
   "source": [
    "#using different shapes (broadcasting)\n",
    "import numpy as np\n",
    "a=np.array([[1,2],[6,8],[6,5]])\n",
    "b=np.array([5,4])\n",
    "res=a+b\n",
    "print(\"result of a+b with broadcasting:\\n\",res)"
   ]
  },
  {
   "cell_type": "code",
   "execution_count": 26,
   "id": "bdc7c5c3",
   "metadata": {},
   "outputs": [
    {
     "name": "stdout",
     "output_type": "stream",
     "text": [
      "result of a-b with broadcasting:\n",
      " [[-4 -2]\n",
      " [ 1  4]\n",
      " [ 1  1]]\n"
     ]
    }
   ],
   "source": [
    "import numpy as np\n",
    "a=np.array([[1,2],[6,8],[6,5]])\n",
    "b=np.array([5,4])\n",
    "res=a-b\n",
    "print(\"result of a-b with broadcasting:\\n\",res)"
   ]
  }
 ],
 "metadata": {
  "kernelspec": {
   "display_name": "Python 3 (ipykernel)",
   "language": "python",
   "name": "python3"
  },
  "language_info": {
   "codemirror_mode": {
    "name": "ipython",
    "version": 3
   },
   "file_extension": ".py",
   "mimetype": "text/x-python",
   "name": "python",
   "nbconvert_exporter": "python",
   "pygments_lexer": "ipython3",
   "version": "3.11.5"
  }
 },
 "nbformat": 4,
 "nbformat_minor": 5
}
